{
 "cells": [
  {
   "cell_type": "code",
   "execution_count": null,
   "id": "418383d9",
   "metadata": {
    "lines_to_next_cell": 0
   },
   "outputs": [],
   "source": []
  },
  {
   "cell_type": "markdown",
   "id": "32f14020",
   "metadata": {},
   "source": [
    "# Install required libraries"
   ]
  },
  {
   "cell_type": "markdown",
   "id": "380af9d6",
   "metadata": {},
   "source": [
    "install required libraries\n",
    "pip install scikit-learn numpy matplotlib "
   ]
  },
  {
   "cell_type": "markdown",
   "id": "cb27255e",
   "metadata": {},
   "source": [
    "# Import required libraries"
   ]
  },
  {
   "cell_type": "code",
   "execution_count": null,
   "id": "8b3f29c8",
   "metadata": {},
   "outputs": [],
   "source": [
    "# importing required libraries\n",
    "import numpy as np\n",
    "from sklearn.svm import SVC\n",
    "from sklearn.model_selection import train_test_split\n",
    "from sklearn.model_selection import cross_val_score\n",
    "from sklearn.metrics import precision_score, recall_score\n",
    "from sklearn.metrics import classification_report\n",
    "import matplotlib.pyplot as plt\n",
    "from sklearn.datasets import make_classification\n",
    "from sklearn.metrics import RocCurveDisplay\n",
    "from sklearn.metrics import PrecisionRecallDisplay"
   ]
  },
  {
   "cell_type": "markdown",
   "id": "f71fc690",
   "metadata": {},
   "source": [
    "# Hyperparameters"
   ]
  },
  {
   "cell_type": "code",
   "execution_count": null,
   "id": "13e7afd8",
   "metadata": {},
   "outputs": [],
   "source": [
    "# Set Hyperparameters\n",
    "C = 1.0\n",
    "kernel = 'rbf'\n",
    "gamma = 'scale'"
   ]
  },
  {
   "cell_type": "markdown",
   "id": "c7b93d0a",
   "metadata": {},
   "source": [
    "# Data set"
   ]
  },
  {
   "cell_type": "code",
   "execution_count": null,
   "id": "d65a4549",
   "metadata": {},
   "outputs": [],
   "source": [
    "# number of training points\n",
    "n_samples = 1000\n",
    "# number of features in data set\n",
    "n_features = 10\n",
    "# number of classes\n",
    "n_classes = 2"
   ]
  },
  {
   "cell_type": "code",
   "execution_count": null,
   "id": "d5f4412b",
   "metadata": {},
   "outputs": [],
   "source": [
    "# Generate Synthetic Data\n",
    "X, y = make_classification(n_samples=n_samples,\n",
    "                            n_features=n_features,\n",
    "                            n_classes=n_classes,\n",
    "                            random_state=42)"
   ]
  },
  {
   "cell_type": "code",
   "execution_count": null,
   "id": "bd1df564",
   "metadata": {},
   "outputs": [],
   "source": [
    "# Splitting the data into training and testing data \n",
    "X_train, X_test, y_train, y_test = train_test_split(X, y, \n",
    "                                    test_size = 0.2, \n",
    "                                    stratify=y, \n",
    "                                    random_state=42)"
   ]
  },
  {
   "cell_type": "markdown",
   "id": "fce0c654",
   "metadata": {},
   "source": [
    "# Training"
   ]
  },
  {
   "cell_type": "code",
   "execution_count": null,
   "id": "61db83f8",
   "metadata": {},
   "outputs": [],
   "source": [
    "# Train SVM Model\n",
    "model = SVC(C=C, kernel=kernel, gamma=gamma)\n",
    "model.fit(X_train, y_train)"
   ]
  },
  {
   "cell_type": "markdown",
   "id": "6a6a632f",
   "metadata": {},
   "source": [
    "# Testing"
   ]
  },
  {
   "cell_type": "markdown",
   "id": "39991c15",
   "metadata": {},
   "source": [
    "Testing model on train data"
   ]
  },
  {
   "cell_type": "code",
   "execution_count": null,
   "id": "36bafc96",
   "metadata": {},
   "outputs": [],
   "source": [
    "# get the prediction labels of the training data\n",
    "cross_validation = cross_val_score(model, X_train, y_train, cv=5)"
   ]
  },
  {
   "cell_type": "code",
   "execution_count": null,
   "id": "5c4a0f37",
   "metadata": {},
   "outputs": [],
   "source": [
    "# evaluate and print the results\n",
    "print(\"\\nModel Performance on Training Data: {}\".format(\n",
    "    np.mean(cross_validation).round(2)))"
   ]
  },
  {
   "cell_type": "markdown",
   "id": "09671fc8",
   "metadata": {},
   "source": [
    "Testing model on test data"
   ]
  },
  {
   "cell_type": "code",
   "execution_count": null,
   "id": "88aa89b1",
   "metadata": {},
   "outputs": [],
   "source": [
    "# get the prediction labels of the test data\n",
    "y_pred = model.predict(X_test)\n",
    "accuracy = model.score(X_test, y_test)"
   ]
  },
  {
   "cell_type": "code",
   "execution_count": null,
   "id": "386cf4cc",
   "metadata": {},
   "outputs": [],
   "source": [
    "print(\"\\nModel Performance on Test Data: {}\".format(\n",
    "    accuracy.round(2)))"
   ]
  },
  {
   "cell_type": "code",
   "execution_count": null,
   "id": "09ba4651",
   "metadata": {},
   "outputs": [],
   "source": [
    "# Compute the Precision\n",
    "precision = precision_score(y_test, y_pred).round(2)\n",
    "print(\"\\nPrecision: {}\".format(precision))"
   ]
  },
  {
   "cell_type": "code",
   "execution_count": null,
   "id": "98482f82",
   "metadata": {},
   "outputs": [],
   "source": [
    "# Compute the Recall\n",
    "recall = recall_score(y_test, y_pred).round(2)\n",
    "print(\"\\nRecall: {}\".format(recall))"
   ]
  },
  {
   "cell_type": "code",
   "execution_count": null,
   "id": "c6fb474f",
   "metadata": {},
   "outputs": [],
   "source": [
    "# Generate text reprot showing the main classification metrics\n",
    "report = classification_report(y_test, y_pred)\n",
    "print(report)"
   ]
  },
  {
   "cell_type": "markdown",
   "id": "cf1ecceb",
   "metadata": {},
   "source": [
    "# Visualization"
   ]
  },
  {
   "cell_type": "code",
   "execution_count": null,
   "id": "aff951df",
   "metadata": {},
   "outputs": [],
   "source": [
    "fig, axes = plt.subplots(figsize=(10,6), ncols=2, sharey=True)\n",
    "ax1, ax2 = axes\n",
    "RocCurveDisplay.from_estimator(model, X_test, y_test, ax=ax1)\n",
    "ax1.set_title(\"ROC Curve\")\n",
    "PrecisionRecallDisplay.from_estimator(model, X_test, y_test, ax=ax2)\n",
    "ax2.set_title(\"Precision Recall Curve\")\n",
    "plt.show()"
   ]
  }
 ],
 "metadata": {
  "jupytext": {
   "cell_metadata_filter": "-all",
   "main_language": "python",
   "notebook_metadata_filter": "-all"
  }
 },
 "nbformat": 4,
 "nbformat_minor": 5
}