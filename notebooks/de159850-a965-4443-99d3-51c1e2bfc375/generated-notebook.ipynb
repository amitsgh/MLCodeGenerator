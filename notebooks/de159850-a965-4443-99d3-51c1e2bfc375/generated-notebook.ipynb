{
 "cells": [
  {
   "cell_type": "markdown",
   "id": "aef6ea0e",
   "metadata": {},
   "source": [
    "# Install required libraries"
   ]
  },
  {
   "cell_type": "markdown",
   "id": "2162c380",
   "metadata": {},
   "source": [
    "install required libraries\n",
    "pip install scikit-learn numpy"
   ]
  },
  {
   "cell_type": "markdown",
   "id": "794d1d24",
   "metadata": {},
   "source": [
    "# Import required libraries"
   ]
  },
  {
   "cell_type": "code",
   "execution_count": null,
   "id": "dd2e72aa",
   "metadata": {},
   "outputs": [],
   "source": [
    "# importing required libraries\n",
    "import numpy as np\n",
    "from sklearn.cluster import DBSCAN\n",
    "from sklearn.datasets import make_blobs\n",
    "from sklearn.metrics.cluster import adjusted_rand_score\n",
    "from sklearn.metrics.cluster import normalized_mutual_info_score\n",
    "from sklearn.metrics.cluster import adjusted_mutual_info_score\n",
    "from sklearn.metrics.cluster import fowlkes_mallows_score"
   ]
  },
  {
   "cell_type": "markdown",
   "id": "f5920489",
   "metadata": {},
   "source": [
    "# Hyperparameters"
   ]
  },
  {
   "cell_type": "code",
   "execution_count": null,
   "id": "b1eec709",
   "metadata": {},
   "outputs": [],
   "source": [
    "# Set Hyperparameters\n",
    "eps = 0.5\n",
    "min_samples = 5\n",
    "dist = 'euclidean'\n",
    "search_algo = 'kd_tree'"
   ]
  },
  {
   "cell_type": "markdown",
   "id": "eecc3c2d",
   "metadata": {},
   "source": [
    "# Data set"
   ]
  },
  {
   "cell_type": "code",
   "execution_count": null,
   "id": "7e5308b1",
   "metadata": {},
   "outputs": [],
   "source": [
    "# number of training points\n",
    "n_samples = 1000\n",
    "# number of features in data set\n",
    "n_features = 2\n",
    "# number of cluster centers\n",
    "n_centers = 3\n",
    "# cluster standard deviation\n",
    "cluster_std = 1.0"
   ]
  },
  {
   "cell_type": "markdown",
   "id": "e3f0c858",
   "metadata": {},
   "source": [
    "Generate Synthetic Data"
   ]
  },
  {
   "cell_type": "code",
   "execution_count": null,
   "id": "46041217",
   "metadata": {},
   "outputs": [],
   "source": [
    "X, y = make_blobs(n_samples=n_samples, \n",
    "            n_features=n_features, \n",
    "            centers=n_centers, \n",
    "            cluster_std=cluster_std)"
   ]
  },
  {
   "cell_type": "markdown",
   "id": "4a88053e",
   "metadata": {},
   "source": [
    "# Training"
   ]
  },
  {
   "cell_type": "code",
   "execution_count": null,
   "id": "41385441",
   "metadata": {},
   "outputs": [],
   "source": [
    "# Train DBSCAN Model\n",
    "model = DBSCAN(eps=eps,\n",
    "            min_samples=min_samples,\n",
    "            metric=dist,\n",
    "            algorithm=search_algo)\n",
    "model.fit(X)"
   ]
  },
  {
   "cell_type": "markdown",
   "id": "64ac9439",
   "metadata": {},
   "source": [
    "# Testing"
   ]
  },
  {
   "cell_type": "code",
   "execution_count": null,
   "id": "a693a935",
   "metadata": {},
   "outputs": [],
   "source": [
    "# get prediction labels for each data points\n",
    "y_pred = model.labels_"
   ]
  },
  {
   "cell_type": "code",
   "execution_count": null,
   "id": "381a50b9",
   "metadata": {},
   "outputs": [],
   "source": [
    "# Adjusted Rand Score\n",
    "print(\"\\nAdjusted Rand Score : {}\".format(\n",
    "    np.round(adjusted_rand_score(y, y_pred), decimals=2)))"
   ]
  },
  {
   "cell_type": "code",
   "execution_count": null,
   "id": "f5d823ea",
   "metadata": {},
   "outputs": [],
   "source": [
    "# Normalized Mutual Information Based Score\n",
    "print(\"\\nNormalized Mutual Information Based Score : {}\".format(\n",
    "    np.round(normalized_mutual_info_score(y, y_pred), decimals=2)))"
   ]
  },
  {
   "cell_type": "code",
   "execution_count": null,
   "id": "d4ba1f39",
   "metadata": {},
   "outputs": [],
   "source": [
    "# Adjusted Mutual Information (AMI) \n",
    "print(\"\\nAdjusted Mutual Information (AMI) : {}\".format(\n",
    "    np.round(adjusted_mutual_info_score(y, y_pred), decimals=2)))"
   ]
  },
  {
   "cell_type": "code",
   "execution_count": null,
   "id": "087eb5b9",
   "metadata": {},
   "outputs": [],
   "source": [
    "# Fowlkes-Mallows Score\n",
    "print(\"\\nFowlkes-Mallows Score : {}\".format(\n",
    "    np.round(fowlkes_mallows_score(y, y_pred), decimals=2)))"
   ]
  }
 ],
 "metadata": {
  "jupytext": {
   "cell_metadata_filter": "-all",
   "main_language": "python",
   "notebook_metadata_filter": "-all"
  }
 },
 "nbformat": 4,
 "nbformat_minor": 5
}