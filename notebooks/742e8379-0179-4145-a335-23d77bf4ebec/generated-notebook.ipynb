{
 "cells": [
  {
   "cell_type": "code",
   "execution_count": null,
   "id": "242f10a9",
   "metadata": {
    "lines_to_next_cell": 0
   },
   "outputs": [],
   "source": []
  },
  {
   "cell_type": "markdown",
   "id": "9c54b063",
   "metadata": {},
   "source": [
    "# Install required libraries"
   ]
  },
  {
   "cell_type": "code",
   "execution_count": null,
   "id": "0479253f",
   "metadata": {},
   "outputs": [],
   "source": [
    "# install required libraries\n",
    "!pip install scikit-learn numpy matplotlib "
   ]
  },
  {
   "cell_type": "markdown",
   "id": "b10294d7",
   "metadata": {},
   "source": [
    "# Import required libraries"
   ]
  },
  {
   "cell_type": "code",
   "execution_count": null,
   "id": "a226ec70",
   "metadata": {},
   "outputs": [],
   "source": [
    "# importing required libraries\n",
    "import numpy as np\n",
    "from sklearn.neighbors import KNeighborsClassifier\n",
    "from sklearn.model_selection import train_test_split\n",
    "from sklearn.model_selection import cross_val_score\n",
    "from sklearn.metrics import precision_score, recall_score\n",
    "from sklearn.metrics import classification_report\n",
    "import matplotlib.pyplot as plt\n",
    "from sklearn.datasets import make_classification"
   ]
  },
  {
   "cell_type": "markdown",
   "id": "5976a981",
   "metadata": {},
   "source": [
    "# Hyperparameters"
   ]
  },
  {
   "cell_type": "code",
   "execution_count": null,
   "id": "37a5d02e",
   "metadata": {},
   "outputs": [],
   "source": [
    "# Set Hyperparameters\n",
    "k = 10\n",
    "search_algo = 'auto'\n",
    "dist = 'euclidean'"
   ]
  },
  {
   "cell_type": "markdown",
   "id": "91387071",
   "metadata": {},
   "source": [
    "# Data set"
   ]
  },
  {
   "cell_type": "code",
   "execution_count": null,
   "id": "07412e89",
   "metadata": {},
   "outputs": [],
   "source": [
    "# number of training points\n",
    "n_samples = 1000\n",
    "# number of features in data set\n",
    "n_features = 10\n",
    "# number of classes\n",
    "n_classes = 2"
   ]
  },
  {
   "cell_type": "code",
   "execution_count": null,
   "id": "ab0085ca",
   "metadata": {},
   "outputs": [],
   "source": [
    "# Generate Synthetic Data\n",
    "X, y = make_classification(n_samples=n_samples,\n",
    "                            n_features=n_features,\n",
    "                            n_classes=n_classes,\n",
    "                            random_state=42)"
   ]
  },
  {
   "cell_type": "code",
   "execution_count": null,
   "id": "319ec64b",
   "metadata": {},
   "outputs": [],
   "source": [
    "# Splitting the data into training and testing data \n",
    "X_train, X_test, y_train, y_test = train_test_split(X, y, \n",
    "                                    test_size = 0.2, \n",
    "                                    stratify=y, \n",
    "                                    random_state=42)"
   ]
  },
  {
   "cell_type": "markdown",
   "id": "b162faa0",
   "metadata": {},
   "source": [
    "# Training"
   ]
  },
  {
   "cell_type": "code",
   "execution_count": null,
   "id": "8128a6d5",
   "metadata": {},
   "outputs": [],
   "source": [
    "# Train k-Nearest Neighbor Model\n",
    "model = KNeighborsClassifier(n_neighbors=k, algorithm=search_algo, \n",
    "                                metric=dist)\n",
    "model.fit(X_train, y_train)"
   ]
  },
  {
   "cell_type": "markdown",
   "id": "837e4f09",
   "metadata": {},
   "source": [
    "# Testing"
   ]
  },
  {
   "cell_type": "markdown",
   "id": "17333cd4",
   "metadata": {},
   "source": [
    "Testing model on train data"
   ]
  },
  {
   "cell_type": "code",
   "execution_count": null,
   "id": "a7045006",
   "metadata": {},
   "outputs": [],
   "source": [
    "# get the prediction labels of the training data\n",
    "cross_validation = cross_val_score(model, X_train, y_train, cv=5)"
   ]
  },
  {
   "cell_type": "code",
   "execution_count": null,
   "id": "4046969b",
   "metadata": {},
   "outputs": [],
   "source": [
    "# evaluate and print the results\n",
    "print(\"\\nModel Performance on Training Data: {}\".format(\n",
    "    np.mean(cross_validation).round(2)))"
   ]
  },
  {
   "cell_type": "markdown",
   "id": "4852a073",
   "metadata": {},
   "source": [
    "Testing model on test data"
   ]
  },
  {
   "cell_type": "code",
   "execution_count": null,
   "id": "9149be48",
   "metadata": {},
   "outputs": [],
   "source": [
    "# get the prediction labels of the test data\n",
    "y_pred = model.predict(X_test)\n",
    "accuracy = model.score(X_test, y_test)"
   ]
  },
  {
   "cell_type": "code",
   "execution_count": null,
   "id": "539dde6b",
   "metadata": {},
   "outputs": [],
   "source": [
    "print(\"\\nModel Performance on Test Data: {}\".format(\n",
    "    accuracy.round(2)))"
   ]
  },
  {
   "cell_type": "code",
   "execution_count": null,
   "id": "2b6f0d56",
   "metadata": {},
   "outputs": [],
   "source": [
    "# Compute the Precision\n",
    "precision = precision_score(y_test, y_pred).round(2)\n",
    "print(\"\\nPrecision: {}\".format(precision))"
   ]
  },
  {
   "cell_type": "code",
   "execution_count": null,
   "id": "83ab8cbc",
   "metadata": {},
   "outputs": [],
   "source": [
    "# Compute the Recall\n",
    "recall = recall_score(y_test, y_pred).round(2)\n",
    "print(\"\\nRecall: {}\".format(recall))"
   ]
  },
  {
   "cell_type": "code",
   "execution_count": null,
   "id": "78a898d0",
   "metadata": {
    "lines_to_next_cell": 2
   },
   "outputs": [],
   "source": [
    "# Generate text reprot showing the main classification metrics\n",
    "report = classification_report(y_test, y_pred)\n",
    "print(report)"
   ]
  }
 ],
 "metadata": {
  "jupytext": {
   "cell_metadata_filter": "-all",
   "main_language": "python",
   "notebook_metadata_filter": "-all"
  }
 },
 "nbformat": 4,
 "nbformat_minor": 5
}