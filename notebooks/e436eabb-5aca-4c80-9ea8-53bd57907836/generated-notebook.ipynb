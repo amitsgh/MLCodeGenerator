{
 "cells": [
  {
   "cell_type": "markdown",
   "id": "6eb55730",
   "metadata": {},
   "source": [
    "# Load the dataset"
   ]
  },
  {
   "cell_type": "code",
   "execution_count": null,
   "id": "e049822b",
   "metadata": {},
   "outputs": [],
   "source": [
    "# Loading the dataset\n",
    "!wget https://raw.githubusercontent.com//master/data/ad/diabetes.csv"
   ]
  },
  {
   "cell_type": "markdown",
   "id": "8f5566d8",
   "metadata": {},
   "source": [
    "# Install required libraries"
   ]
  },
  {
   "cell_type": "code",
   "execution_count": null,
   "id": "9a813c3a",
   "metadata": {},
   "outputs": [],
   "source": [
    "# install required libraries\n",
    "!pip install scikit-learn numpy matplotlib pandas "
   ]
  },
  {
   "cell_type": "markdown",
   "id": "592f4a92",
   "metadata": {},
   "source": [
    "# Import required libraries"
   ]
  },
  {
   "cell_type": "code",
   "execution_count": null,
   "id": "627eed66",
   "metadata": {},
   "outputs": [],
   "source": [
    "# importing required libraries\n",
    "import pandas as pd\n",
    "import numpy as np\n",
    "from sklearn.tree import DecisionTreeClassifier\n",
    "from sklearn.model_selection import train_test_split\n",
    "from sklearn.model_selection import cross_val_score\n",
    "from sklearn.metrics import precision_score, recall_score\n",
    "from sklearn.metrics import classification_report\n",
    "import matplotlib.pyplot as plt"
   ]
  },
  {
   "cell_type": "markdown",
   "id": "299e81a4",
   "metadata": {},
   "source": [
    "# Hyperparameters"
   ]
  },
  {
   "cell_type": "code",
   "execution_count": null,
   "id": "5eb3022f",
   "metadata": {},
   "outputs": [],
   "source": [
    "# Set Hyperparameters\n",
    "criterion = 'gini'\n",
    "max_depth = 1\n",
    "splitter = 'best'"
   ]
  },
  {
   "cell_type": "markdown",
   "id": "f36efbd7",
   "metadata": {},
   "source": [
    "# Data set"
   ]
  },
  {
   "cell_type": "code",
   "execution_count": null,
   "id": "6a367213",
   "metadata": {},
   "outputs": [],
   "source": [
    "# Loading diabetes dataset\n",
    "data = pd.read_csv(\"diabetes.csv\")\n",
    "X = data.copy().drop('class', axis=1)\n",
    "y = data['class']"
   ]
  },
  {
   "cell_type": "code",
   "execution_count": null,
   "id": "c6748398",
   "metadata": {
    "lines_to_next_cell": 2
   },
   "outputs": [],
   "source": [
    "# Splitting the data into training and testing data \n",
    "X_train, X_test, y_train, y_test = train_test_split(X, y, \n",
    "                                    test_size = 0.2, \n",
    "                                    stratify=y, \n",
    "                                    random_state=42)"
   ]
  },
  {
   "cell_type": "markdown",
   "id": "40265ba8",
   "metadata": {},
   "source": [
    "# Training"
   ]
  },
  {
   "cell_type": "code",
   "execution_count": null,
   "id": "1656a79a",
   "metadata": {},
   "outputs": [],
   "source": [
    "# Train Random Forest Model\n",
    "model = DecisionTreeClassifier(criterion=criterion, \n",
    "                max_depth=max_depth, splitter=splitter)\n",
    "model.fit(X_train, y_train)"
   ]
  },
  {
   "cell_type": "markdown",
   "id": "a5b77f84",
   "metadata": {},
   "source": [
    "# Testing"
   ]
  },
  {
   "cell_type": "markdown",
   "id": "f2c52b57",
   "metadata": {},
   "source": [
    "Testing model on train data"
   ]
  },
  {
   "cell_type": "code",
   "execution_count": null,
   "id": "16ad0301",
   "metadata": {},
   "outputs": [],
   "source": [
    "# get the prediction labels of the training data\n",
    "cross_validation = cross_val_score(model, X_train, y_train, cv=5)"
   ]
  },
  {
   "cell_type": "code",
   "execution_count": null,
   "id": "33c7d0d5",
   "metadata": {},
   "outputs": [],
   "source": [
    "# evaluate and print the results\n",
    "print(\"\\nModel Performance on Training Data: {}\".format(\n",
    "    np.mean(cross_validation).round(2)))"
   ]
  },
  {
   "cell_type": "markdown",
   "id": "0ebc43e7",
   "metadata": {},
   "source": [
    "Testing model on test data"
   ]
  },
  {
   "cell_type": "code",
   "execution_count": null,
   "id": "1b2f75d9",
   "metadata": {},
   "outputs": [],
   "source": [
    "# get the prediction labels of the test data\n",
    "y_pred = model.predict(X_test)\n",
    "accuracy = model.score(X_test, y_test)"
   ]
  },
  {
   "cell_type": "code",
   "execution_count": null,
   "id": "62ac1853",
   "metadata": {},
   "outputs": [],
   "source": [
    "print(\"\\nModel Performance on Test Data: {}\".format(\n",
    "    accuracy.round(2)))"
   ]
  },
  {
   "cell_type": "code",
   "execution_count": null,
   "id": "8eb1d247",
   "metadata": {},
   "outputs": [],
   "source": [
    "# Compute the Precision\n",
    "precision = precision_score(y_test, y_pred).round(2)\n",
    "print(\"\\nPrecision: {}\".format(precision))"
   ]
  },
  {
   "cell_type": "code",
   "execution_count": null,
   "id": "c948cf06",
   "metadata": {},
   "outputs": [],
   "source": [
    "# Compute the Recall\n",
    "recall = recall_score(y_test, y_pred).round(2)\n",
    "print(\"\\nRecall: {}\".format(recall))"
   ]
  },
  {
   "cell_type": "code",
   "execution_count": null,
   "id": "19c26c45",
   "metadata": {
    "lines_to_next_cell": 2
   },
   "outputs": [],
   "source": [
    "# Generate text reprot showing the main classification metrics\n",
    "report = classification_report(y_test, y_pred)\n",
    "print(report)"
   ]
  }
 ],
 "metadata": {
  "jupytext": {
   "cell_metadata_filter": "-all",
   "main_language": "python",
   "notebook_metadata_filter": "-all"
  }
 },
 "nbformat": 4,
 "nbformat_minor": 5
}