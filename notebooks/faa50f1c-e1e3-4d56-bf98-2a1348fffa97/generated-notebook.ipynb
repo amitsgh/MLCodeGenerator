{
 "cells": [
  {
   "cell_type": "markdown",
   "id": "975dc6fb",
   "metadata": {},
   "source": [
    "# Install required libraries"
   ]
  },
  {
   "cell_type": "markdown",
   "id": "18f1a899",
   "metadata": {},
   "source": [
    "install required libraries\n",
    "pip install scikit-learn numpy"
   ]
  },
  {
   "cell_type": "markdown",
   "id": "26b4d731",
   "metadata": {},
   "source": [
    "# Import required libraries"
   ]
  },
  {
   "cell_type": "code",
   "execution_count": null,
   "id": "3fcb551c",
   "metadata": {},
   "outputs": [],
   "source": [
    "# importing required libraries\n",
    "import numpy as np\n",
    "from sklearn.cluster import OPTICS\n",
    "from sklearn.datasets import make_blobs\n",
    "from sklearn.metrics.cluster import adjusted_rand_score\n",
    "from sklearn.metrics.cluster import normalized_mutual_info_score\n",
    "from sklearn.metrics.cluster import adjusted_mutual_info_score\n",
    "from sklearn.metrics.cluster import fowlkes_mallows_score"
   ]
  },
  {
   "cell_type": "markdown",
   "id": "8d32d682",
   "metadata": {},
   "source": [
    "# Hyperparameters"
   ]
  },
  {
   "cell_type": "code",
   "execution_count": null,
   "id": "c24e49d1",
   "metadata": {},
   "outputs": [],
   "source": [
    "min_samples = 5\n",
    "dist = 'euclidean'\n",
    "search_algo = 'auto'"
   ]
  },
  {
   "cell_type": "markdown",
   "id": "57a9f5e8",
   "metadata": {},
   "source": [
    "# Data set"
   ]
  },
  {
   "cell_type": "code",
   "execution_count": null,
   "id": "734e866b",
   "metadata": {},
   "outputs": [],
   "source": [
    "# number of training points\n",
    "n_samples = 1000\n",
    "# number of features in data set\n",
    "n_features = 2\n",
    "# number of cluster centers\n",
    "n_centers = 3\n",
    "# cluster standard deviation\n",
    "cluster_std = 1.0"
   ]
  },
  {
   "cell_type": "markdown",
   "id": "244dc16d",
   "metadata": {},
   "source": [
    "Generate Synthetic Data"
   ]
  },
  {
   "cell_type": "code",
   "execution_count": null,
   "id": "5ea5eb18",
   "metadata": {},
   "outputs": [],
   "source": [
    "X, y = make_blobs(n_samples=n_samples, \n",
    "            n_features=n_features, \n",
    "            centers=n_centers, \n",
    "            cluster_std=cluster_std)"
   ]
  },
  {
   "cell_type": "markdown",
   "id": "fa59d5ed",
   "metadata": {},
   "source": [
    "# Training"
   ]
  },
  {
   "cell_type": "code",
   "execution_count": null,
   "id": "a24ddf28",
   "metadata": {},
   "outputs": [],
   "source": [
    "# Train OPTICS Model\n",
    "model = OPTICS(min_samples=min_samples, metric=dist, \n",
    "            algorithm=search_algo)\n",
    "model.fit(X)"
   ]
  },
  {
   "cell_type": "markdown",
   "id": "ba3f94a8",
   "metadata": {},
   "source": [
    "# Testing"
   ]
  },
  {
   "cell_type": "code",
   "execution_count": null,
   "id": "afedcc45",
   "metadata": {},
   "outputs": [],
   "source": [
    "# get prediction labels for each data points\n",
    "y_pred = model.labels_"
   ]
  },
  {
   "cell_type": "code",
   "execution_count": null,
   "id": "65e1feca",
   "metadata": {},
   "outputs": [],
   "source": [
    "# Adjusted Rand Score\n",
    "print(\"\\nAdjusted Rand Score : {}\".format(\n",
    "    np.round(adjusted_rand_score(y, y_pred), decimals=2)))"
   ]
  },
  {
   "cell_type": "code",
   "execution_count": null,
   "id": "d23c4f75",
   "metadata": {},
   "outputs": [],
   "source": [
    "# Normalized Mutual Information Based Score\n",
    "print(\"\\nNormalized Mutual Information Based Score : {}\".format(\n",
    "    np.round(normalized_mutual_info_score(y, y_pred), decimals=2)))"
   ]
  },
  {
   "cell_type": "code",
   "execution_count": null,
   "id": "798d1002",
   "metadata": {},
   "outputs": [],
   "source": [
    "# Adjusted Mutual Information (AMI) \n",
    "print(\"\\nAdjusted Mutual Information (AMI) : {}\".format(\n",
    "    np.round(adjusted_mutual_info_score(y, y_pred), decimals=2)))"
   ]
  },
  {
   "cell_type": "code",
   "execution_count": null,
   "id": "ec7811d7",
   "metadata": {},
   "outputs": [],
   "source": [
    "# Fowlkes-Mallows Score\n",
    "print(\"\\nFowlkes-Mallows Score : {}\".format(\n",
    "    np.round(fowlkes_mallows_score(y, y_pred), decimals=2)))"
   ]
  }
 ],
 "metadata": {
  "jupytext": {
   "cell_metadata_filter": "-all",
   "main_language": "python",
   "notebook_metadata_filter": "-all"
  }
 },
 "nbformat": 4,
 "nbformat_minor": 5
}