{
 "cells": [
  {
   "cell_type": "code",
   "execution_count": null,
   "id": "deacaceb",
   "metadata": {
    "lines_to_next_cell": 0
   },
   "outputs": [],
   "source": []
  },
  {
   "cell_type": "markdown",
   "id": "338ad417",
   "metadata": {},
   "source": [
    "# Install required libraries"
   ]
  },
  {
   "cell_type": "code",
   "execution_count": null,
   "id": "32f7e97e",
   "metadata": {},
   "outputs": [],
   "source": [
    "# install required libraries\n",
    "!pip install scikit-learn numpy matplotlib "
   ]
  },
  {
   "cell_type": "markdown",
   "id": "a2328876",
   "metadata": {},
   "source": [
    "# Import required libraries"
   ]
  },
  {
   "cell_type": "code",
   "execution_count": null,
   "id": "52b5148d",
   "metadata": {},
   "outputs": [],
   "source": [
    "# importing required libraries\n",
    "import numpy as np\n",
    "from sklearn.neighbors import KNeighborsClassifier\n",
    "from sklearn.model_selection import train_test_split\n",
    "from sklearn.model_selection import cross_val_score\n",
    "from sklearn.metrics import precision_score, recall_score\n",
    "from sklearn.metrics import classification_report\n",
    "import matplotlib.pyplot as plt\n",
    "from sklearn.datasets import make_classification"
   ]
  },
  {
   "cell_type": "markdown",
   "id": "c64952c9",
   "metadata": {},
   "source": [
    "# Hyperparameters"
   ]
  },
  {
   "cell_type": "code",
   "execution_count": null,
   "id": "93630579",
   "metadata": {},
   "outputs": [],
   "source": [
    "# Set Hyperparameters\n",
    "k = 10\n",
    "search_algo = 'auto'\n",
    "dist = 'euclidean'"
   ]
  },
  {
   "cell_type": "markdown",
   "id": "2ec250f5",
   "metadata": {},
   "source": [
    "# Data set"
   ]
  },
  {
   "cell_type": "code",
   "execution_count": null,
   "id": "f9c3fb2d",
   "metadata": {},
   "outputs": [],
   "source": [
    "# number of training points\n",
    "n_samples = 1000\n",
    "# number of features in data set\n",
    "n_features = 10\n",
    "# number of classes\n",
    "n_classes = 2"
   ]
  },
  {
   "cell_type": "code",
   "execution_count": null,
   "id": "d26cfb9c",
   "metadata": {},
   "outputs": [],
   "source": [
    "# Generate Synthetic Data\n",
    "X, y = make_classification(n_samples=n_samples,\n",
    "                            n_features=n_features,\n",
    "                            n_classes=n_classes,\n",
    "                            random_state=42)"
   ]
  },
  {
   "cell_type": "code",
   "execution_count": null,
   "id": "07581c43",
   "metadata": {},
   "outputs": [],
   "source": [
    "# Splitting the data into training and testing data \n",
    "X_train, X_test, y_train, y_test = train_test_split(X, y, \n",
    "                                    test_size = 0.2, \n",
    "                                    stratify=y, \n",
    "                                    random_state=42)"
   ]
  },
  {
   "cell_type": "markdown",
   "id": "150bf1d1",
   "metadata": {},
   "source": [
    "# Training"
   ]
  },
  {
   "cell_type": "code",
   "execution_count": null,
   "id": "324040cf",
   "metadata": {},
   "outputs": [],
   "source": [
    "# Train k-Nearest Neighbor Model\n",
    "model = KNeighborsClassifier(n_neighbors=k, algorithm=search_algo, \n",
    "                                metric=dist)\n",
    "model.fit(X_train, y_train)"
   ]
  },
  {
   "cell_type": "markdown",
   "id": "c320f8bd",
   "metadata": {},
   "source": [
    "# Testing"
   ]
  },
  {
   "cell_type": "markdown",
   "id": "26d6e6de",
   "metadata": {},
   "source": [
    "Testing model on train data"
   ]
  },
  {
   "cell_type": "code",
   "execution_count": null,
   "id": "1206001e",
   "metadata": {},
   "outputs": [],
   "source": [
    "# get the prediction labels of the training data\n",
    "cross_validation = cross_val_score(model, X_train, y_train, cv=5)"
   ]
  },
  {
   "cell_type": "code",
   "execution_count": null,
   "id": "51bfa0bf",
   "metadata": {},
   "outputs": [],
   "source": [
    "# evaluate and print the results\n",
    "print(\"\\nModel Performance on Training Data: {}\".format(\n",
    "    np.mean(cross_validation).round(2)))"
   ]
  },
  {
   "cell_type": "markdown",
   "id": "e3f0200b",
   "metadata": {},
   "source": [
    "Testing model on test data"
   ]
  },
  {
   "cell_type": "code",
   "execution_count": null,
   "id": "2be5b857",
   "metadata": {},
   "outputs": [],
   "source": [
    "# get the prediction labels of the test data\n",
    "y_pred = model.predict(X_test)\n",
    "accuracy = model.score(X_test, y_test)"
   ]
  },
  {
   "cell_type": "code",
   "execution_count": null,
   "id": "39792c8b",
   "metadata": {},
   "outputs": [],
   "source": [
    "print(\"\\nModel Performance on Test Data: {}\".format(\n",
    "    accuracy.round(2)))"
   ]
  },
  {
   "cell_type": "code",
   "execution_count": null,
   "id": "c7c477e4",
   "metadata": {},
   "outputs": [],
   "source": [
    "# Compute the Precision\n",
    "precision = precision_score(y_test, y_pred).round(2)\n",
    "print(\"\\nPrecision: {}\".format(precision))"
   ]
  },
  {
   "cell_type": "code",
   "execution_count": null,
   "id": "a31aa375",
   "metadata": {},
   "outputs": [],
   "source": [
    "# Compute the Recall\n",
    "recall = recall_score(y_test, y_pred).round(2)\n",
    "print(\"\\nRecall: {}\".format(recall))"
   ]
  },
  {
   "cell_type": "code",
   "execution_count": null,
   "id": "060902bb",
   "metadata": {
    "lines_to_next_cell": 2
   },
   "outputs": [],
   "source": [
    "# Generate text reprot showing the main classification metrics\n",
    "report = classification_report(y_test, y_pred)\n",
    "print(report)"
   ]
  }
 ],
 "metadata": {
  "jupytext": {
   "cell_metadata_filter": "-all",
   "main_language": "python",
   "notebook_metadata_filter": "-all"
  }
 },
 "nbformat": 4,
 "nbformat_minor": 5
}