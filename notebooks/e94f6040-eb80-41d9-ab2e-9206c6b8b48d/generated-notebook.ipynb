{
 "cells": [
  {
   "cell_type": "code",
   "execution_count": null,
   "id": "44f5f212",
   "metadata": {},
   "outputs": [],
   "source": [
    "# # Load the dataset\n",
    "#Loading the dataset\n",
    "!wget https://raw.githubusercontent.com/amitsgh/MLCodeGenerator/master/data/ad/kddcup99.csv"
   ]
  },
  {
   "cell_type": "markdown",
   "id": "8a4cf659",
   "metadata": {},
   "source": [
    "# Install required libraries"
   ]
  },
  {
   "cell_type": "code",
   "execution_count": null,
   "id": "903a2f97",
   "metadata": {},
   "outputs": [],
   "source": [
    "# install required libraries\n",
    "!pip install pyod pandas scikit-learn "
   ]
  },
  {
   "cell_type": "markdown",
   "id": "81c32a16",
   "metadata": {},
   "source": [
    "# Import required libraries"
   ]
  },
  {
   "cell_type": "code",
   "execution_count": null,
   "id": "e9d30c36",
   "metadata": {},
   "outputs": [],
   "source": [
    "# importing required libraries\n",
    "from pyod.models.knn import KNN\n",
    "from pyod.utils.data import generate_data\n",
    "from pyod.utils.data import evaluate_print\n",
    "from pyod.utils.example import visualize\n",
    "import pandas as pd\n",
    "from sklearn.model_selection import train_test_split "
   ]
  },
  {
   "cell_type": "markdown",
   "id": "71ef0f37",
   "metadata": {},
   "source": [
    "# Hyperparameters"
   ]
  },
  {
   "cell_type": "code",
   "execution_count": null,
   "id": "e736deeb",
   "metadata": {},
   "outputs": [],
   "source": [
    "# Set Hyperparameters\n",
    "k = 10\n",
    "search_algo = 'auto'\n",
    "dist = 'euclidean'"
   ]
  },
  {
   "cell_type": "markdown",
   "id": "77efb38e",
   "metadata": {},
   "source": [
    "# Data set"
   ]
  },
  {
   "cell_type": "code",
   "execution_count": null,
   "id": "04d50335",
   "metadata": {},
   "outputs": [],
   "source": [
    "# Loading glass dataset\n",
    "data = pd.read_csv(\"glass.csv\")\n",
    "X = data.copy().drop('outlier', axis=1)\n",
    "y = data['outlier']"
   ]
  },
  {
   "cell_type": "code",
   "execution_count": null,
   "id": "34d1923e",
   "metadata": {
    "lines_to_next_cell": 2
   },
   "outputs": [],
   "source": [
    "X_train, X_test, y_train,y_test = train_test_split(X, y, \n",
    "                                    test_size = 0.2, \n",
    "                                    stratify=y, \n",
    "                                    random_state=42)"
   ]
  },
  {
   "cell_type": "markdown",
   "id": "7630126b",
   "metadata": {},
   "source": [
    "# Training"
   ]
  },
  {
   "cell_type": "code",
   "execution_count": null,
   "id": "6b07320b",
   "metadata": {},
   "outputs": [],
   "source": [
    "# Train Model\n",
    "clf_name = 'KNN'\n",
    "clf = KNN(n_neighbors=k, algorithm=search_algo, metric=dist)\n",
    "clf.fit(X_train)"
   ]
  },
  {
   "cell_type": "markdown",
   "id": "c573bdb7",
   "metadata": {},
   "source": [
    "# Testing"
   ]
  },
  {
   "cell_type": "markdown",
   "id": "11f32fd6",
   "metadata": {},
   "source": [
    "Testing model on train data"
   ]
  },
  {
   "cell_type": "code",
   "execution_count": null,
   "id": "b36850c4",
   "metadata": {},
   "outputs": [],
   "source": [
    "# get the prediction labels and outlier scores of the training data\n",
    "y_train_pred = clf.labels_  # binary labels (0: inliers, 1: outliers)\n",
    "y_train_scores = clf.decision_scores_  # raw outlier scores"
   ]
  },
  {
   "cell_type": "code",
   "execution_count": null,
   "id": "08d9e000",
   "metadata": {},
   "outputs": [],
   "source": [
    "# evaluate and print the results\n",
    "print(\"\\nOn Training Data:\")\n",
    "evaluate_print(clf_name, y_train, y_train_scores)"
   ]
  },
  {
   "cell_type": "markdown",
   "id": "0164d51f",
   "metadata": {},
   "source": [
    "Testing model on test data"
   ]
  },
  {
   "cell_type": "code",
   "execution_count": null,
   "id": "79dc2b36",
   "metadata": {},
   "outputs": [],
   "source": [
    "# get the prediction on the test data\n",
    "y_test_pred = clf.predict(X_test)  # outlier labels (0 or 1)\n",
    "y_test_scores = clf.decision_function(X_test)  # outlier scores"
   ]
  },
  {
   "cell_type": "code",
   "execution_count": null,
   "id": "40925c69",
   "metadata": {
    "lines_to_next_cell": 2
   },
   "outputs": [],
   "source": [
    "print(\"\\nOn Test Data:\")\n",
    "evaluate_print(clf_name, y_test, y_test_scores)"
   ]
  }
 ],
 "metadata": {
  "jupytext": {
   "cell_metadata_filter": "-all",
   "main_language": "python",
   "notebook_metadata_filter": "-all"
  }
 },
 "nbformat": 4,
 "nbformat_minor": 5
}