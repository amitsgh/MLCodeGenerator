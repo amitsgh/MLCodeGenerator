{
 "cells": [
  {
   "cell_type": "markdown",
   "id": "af32bf55",
   "metadata": {},
   "source": [
    "# Install required libraries"
   ]
  },
  {
   "cell_type": "markdown",
   "id": "9ccc5185",
   "metadata": {},
   "source": [
    "install required libraries\n",
    "pip install pyod \n",
    "# Import required libraries"
   ]
  },
  {
   "cell_type": "code",
   "execution_count": null,
   "id": "9faafb0f",
   "metadata": {},
   "outputs": [],
   "source": [
    "# importing required libraries\n",
    "from pyod.models.iforest import IForest\n",
    "from pyod.utils.data import generate_data\n",
    "from pyod.utils.data import evaluate_print\n",
    "from pyod.utils.example import visualize"
   ]
  },
  {
   "cell_type": "markdown",
   "id": "48353a28",
   "metadata": {},
   "source": [
    "# Hyperparameters"
   ]
  },
  {
   "cell_type": "code",
   "execution_count": null,
   "id": "8ca92c4a",
   "metadata": {},
   "outputs": [],
   "source": [
    "# Set Hyperparameters\n",
    "n_samples = 128\n",
    "n_trees = 100"
   ]
  },
  {
   "cell_type": "markdown",
   "id": "786eda09",
   "metadata": {},
   "source": [
    "# Data set"
   ]
  },
  {
   "cell_type": "code",
   "execution_count": null,
   "id": "2589b032",
   "metadata": {},
   "outputs": [],
   "source": [
    "# number of training points\n",
    "n_train = 200\n",
    "# number of testing points\n",
    "n_test = 100\n",
    "# percentage of outliers\n",
    "contamination = 0.1\n",
    "# number of features in data set\n",
    "n_features = 2"
   ]
  },
  {
   "cell_type": "code",
   "execution_count": null,
   "id": "cb7d3cb0",
   "metadata": {},
   "outputs": [],
   "source": [
    "# Generate Synthetic Data\n",
    "X_train, y_train, X_test, y_test = generate_data(n_train=n_train,\n",
    "                                                    n_test=n_test,\n",
    "                                                    n_features=n_features,\n",
    "                                                    contamination=contamination,\n",
    "                                                    random_state=42)"
   ]
  },
  {
   "cell_type": "markdown",
   "id": "a971ae80",
   "metadata": {},
   "source": [
    "# Training"
   ]
  },
  {
   "cell_type": "code",
   "execution_count": null,
   "id": "e3b1983d",
   "metadata": {},
   "outputs": [],
   "source": [
    "# Train Model\n",
    "clf_name = 'iForest'\n",
    "clf = IForest(n_estimators=n_trees, max_samples=n_samples)\n",
    "clf.fit(X_train)"
   ]
  },
  {
   "cell_type": "markdown",
   "id": "ce0dd4a9",
   "metadata": {},
   "source": [
    "# Testing"
   ]
  },
  {
   "cell_type": "markdown",
   "id": "a70e6719",
   "metadata": {},
   "source": [
    "Testing model on train data"
   ]
  },
  {
   "cell_type": "code",
   "execution_count": null,
   "id": "b04d0b3f",
   "metadata": {},
   "outputs": [],
   "source": [
    "# get the prediction labels and outlier scores of the training data\n",
    "y_train_pred = clf.labels_  # binary labels (0: inliers, 1: outliers)\n",
    "y_train_scores = clf.decision_scores_  # raw outlier scores"
   ]
  },
  {
   "cell_type": "code",
   "execution_count": null,
   "id": "0566bdfc",
   "metadata": {},
   "outputs": [],
   "source": [
    "# evaluate and print the results\n",
    "print(\"\\nOn Training Data:\")\n",
    "evaluate_print(clf_name, y_train, y_train_scores)"
   ]
  },
  {
   "cell_type": "markdown",
   "id": "ca481ac1",
   "metadata": {},
   "source": [
    "Testing model on test data"
   ]
  },
  {
   "cell_type": "code",
   "execution_count": null,
   "id": "3e2be1c1",
   "metadata": {},
   "outputs": [],
   "source": [
    "# get the prediction on the test data\n",
    "y_test_pred = clf.predict(X_test)  # outlier labels (0 or 1)\n",
    "y_test_scores = clf.decision_function(X_test)  # outlier scores"
   ]
  },
  {
   "cell_type": "code",
   "execution_count": null,
   "id": "9efdb950",
   "metadata": {
    "lines_to_next_cell": 2
   },
   "outputs": [],
   "source": [
    "print(\"\\nOn Test Data:\")\n",
    "evaluate_print(clf_name, y_test, y_test_scores)"
   ]
  }
 ],
 "metadata": {
  "jupytext": {
   "cell_metadata_filter": "-all",
   "main_language": "python",
   "notebook_metadata_filter": "-all"
  }
 },
 "nbformat": 4,
 "nbformat_minor": 5
}