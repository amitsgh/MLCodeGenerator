{
 "cells": [
  {
   "cell_type": "markdown",
   "id": "d3733d48",
   "metadata": {},
   "source": [
    "# Install required libraries"
   ]
  },
  {
   "cell_type": "markdown",
   "id": "6ede684d",
   "metadata": {},
   "source": [
    "install required libraries\n",
    "pip install scikit-learn numpy"
   ]
  },
  {
   "cell_type": "markdown",
   "id": "2482ae62",
   "metadata": {},
   "source": [
    "# Import required libraries"
   ]
  },
  {
   "cell_type": "code",
   "execution_count": null,
   "id": "dc133244",
   "metadata": {},
   "outputs": [],
   "source": [
    "# importing required libraries\n",
    "import numpy as np\n",
    "from sklearn.cluster import DBSCAN\n",
    "from sklearn.datasets import make_blobs\n",
    "from sklearn.metrics.cluster import adjusted_rand_score\n",
    "from sklearn.metrics.cluster import normalized_mutual_info_score\n",
    "from sklearn.metrics.cluster import adjusted_mutual_info_score\n",
    "from sklearn.metrics.cluster import fowlkes_mallows_score"
   ]
  },
  {
   "cell_type": "markdown",
   "id": "19cf1683",
   "metadata": {},
   "source": [
    "# Hyperparameters"
   ]
  },
  {
   "cell_type": "code",
   "execution_count": null,
   "id": "8d1c9dd4",
   "metadata": {},
   "outputs": [],
   "source": [
    "# Set Hyperparameters\n",
    "eps = 0.5\n",
    "min_samples = 5\n",
    "dist = 'euclidean'\n",
    "search_algo = 'auto'"
   ]
  },
  {
   "cell_type": "markdown",
   "id": "a9124178",
   "metadata": {},
   "source": [
    "# Data set"
   ]
  },
  {
   "cell_type": "code",
   "execution_count": null,
   "id": "937eb0c5",
   "metadata": {},
   "outputs": [],
   "source": [
    "# number of training points\n",
    "n_samples = 1000\n",
    "# number of features in data set\n",
    "n_features = 2\n",
    "# number of cluster centers\n",
    "n_centers = 3\n",
    "# cluster standard deviation\n",
    "cluster_std = 1.0"
   ]
  },
  {
   "cell_type": "markdown",
   "id": "04b8a0d3",
   "metadata": {},
   "source": [
    "Generate Synthetic Data"
   ]
  },
  {
   "cell_type": "code",
   "execution_count": null,
   "id": "30fbd4b0",
   "metadata": {},
   "outputs": [],
   "source": [
    "X, y = make_blobs(n_samples=n_samples, \n",
    "            n_features=n_features, \n",
    "            centers=n_centers, \n",
    "            cluster_std=cluster_std)"
   ]
  },
  {
   "cell_type": "markdown",
   "id": "aab11920",
   "metadata": {},
   "source": [
    "# Training"
   ]
  },
  {
   "cell_type": "code",
   "execution_count": null,
   "id": "7a968dce",
   "metadata": {},
   "outputs": [],
   "source": [
    "# Train DBSCAN Model\n",
    "model = DBSCAN(eps=eps,\n",
    "            min_samples=min_samples,\n",
    "            metric=dist,\n",
    "            algorithm=search_algo)\n",
    "model.fit(X)"
   ]
  },
  {
   "cell_type": "markdown",
   "id": "009e8fd2",
   "metadata": {},
   "source": [
    "# Testing"
   ]
  },
  {
   "cell_type": "code",
   "execution_count": null,
   "id": "36c16881",
   "metadata": {},
   "outputs": [],
   "source": [
    "# get prediction labels for each data points\n",
    "y_pred = model.labels_"
   ]
  },
  {
   "cell_type": "code",
   "execution_count": null,
   "id": "76cbb8a5",
   "metadata": {},
   "outputs": [],
   "source": [
    "# Adjusted Rand Score\n",
    "print(\"\\nAdjusted Rand Score : {}\".format(\n",
    "    np.round(adjusted_rand_score(y, y_pred), decimals=2)))"
   ]
  },
  {
   "cell_type": "code",
   "execution_count": null,
   "id": "9b1f8db0",
   "metadata": {},
   "outputs": [],
   "source": [
    "# Normalized Mutual Information Based Score\n",
    "print(\"\\nNormalized Mutual Information Based Score : {}\".format(\n",
    "    np.round(normalized_mutual_info_score(y, y_pred), decimals=2)))"
   ]
  },
  {
   "cell_type": "code",
   "execution_count": null,
   "id": "f05d81ad",
   "metadata": {},
   "outputs": [],
   "source": [
    "# Adjusted Mutual Information (AMI) \n",
    "print(\"\\nAdjusted Mutual Information (AMI) : {}\".format(\n",
    "    np.round(adjusted_mutual_info_score(y, y_pred), decimals=2)))"
   ]
  },
  {
   "cell_type": "code",
   "execution_count": null,
   "id": "da8271a1",
   "metadata": {},
   "outputs": [],
   "source": [
    "# Fowlkes-Mallows Score\n",
    "print(\"\\nFowlkes-Mallows Score : {}\".format(\n",
    "    np.round(fowlkes_mallows_score(y, y_pred), decimals=2)))"
   ]
  }
 ],
 "metadata": {
  "jupytext": {
   "cell_metadata_filter": "-all",
   "main_language": "python",
   "notebook_metadata_filter": "-all"
  }
 },
 "nbformat": 4,
 "nbformat_minor": 5
}