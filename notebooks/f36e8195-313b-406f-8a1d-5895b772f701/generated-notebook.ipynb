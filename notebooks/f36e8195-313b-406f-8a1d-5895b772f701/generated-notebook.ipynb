{
 "cells": [
  {
   "cell_type": "markdown",
   "id": "38f4418d",
   "metadata": {},
   "source": [
    "# Install required libraries"
   ]
  },
  {
   "cell_type": "markdown",
   "id": "4417afbf",
   "metadata": {},
   "source": [
    "install required libraries\n",
    "pip install pyod \n",
    "# Import required libraries"
   ]
  },
  {
   "cell_type": "code",
   "execution_count": null,
   "id": "27302fd4",
   "metadata": {},
   "outputs": [],
   "source": [
    "# importing required libraries\n",
    "from pyod.models.iforest import IForest\n",
    "from pyod.utils.data import generate_data\n",
    "from pyod.utils.data import evaluate_print\n",
    "from pyod.utils.example import visualize"
   ]
  },
  {
   "cell_type": "markdown",
   "id": "79d146a9",
   "metadata": {},
   "source": [
    "# Hyperparameters"
   ]
  },
  {
   "cell_type": "code",
   "execution_count": null,
   "id": "343acd4b",
   "metadata": {},
   "outputs": [],
   "source": [
    "# Set Hyperparameters\n",
    "n_samples = 128\n",
    "n_trees = 100"
   ]
  },
  {
   "cell_type": "markdown",
   "id": "a63fb5fd",
   "metadata": {},
   "source": [
    "# Data set"
   ]
  },
  {
   "cell_type": "code",
   "execution_count": null,
   "id": "ec2222a6",
   "metadata": {},
   "outputs": [],
   "source": [
    "# number of training points\n",
    "n_train = 200\n",
    "# number of testing points\n",
    "n_test = 100\n",
    "# percentage of outliers\n",
    "contamination = 0.1\n",
    "# number of features in data set\n",
    "n_features = 2"
   ]
  },
  {
   "cell_type": "code",
   "execution_count": null,
   "id": "0c6fbc3a",
   "metadata": {},
   "outputs": [],
   "source": [
    "# Generate Synthetic Data\n",
    "X_train, y_train, X_test, y_test = generate_data(n_train=n_train,\n",
    "                                                    n_test=n_test,\n",
    "                                                    n_features=n_features,\n",
    "                                                    contamination=contamination,\n",
    "                                                    random_state=42)"
   ]
  },
  {
   "cell_type": "markdown",
   "id": "584c9b8c",
   "metadata": {},
   "source": [
    "# Training"
   ]
  },
  {
   "cell_type": "code",
   "execution_count": null,
   "id": "15ade7e0",
   "metadata": {},
   "outputs": [],
   "source": [
    "# Train Model\n",
    "clf_name = 'iForest'\n",
    "clf = IForest(n_estimators=n_trees, max_samples=n_samples)\n",
    "clf.fit(X_train)"
   ]
  },
  {
   "cell_type": "markdown",
   "id": "ab05390d",
   "metadata": {},
   "source": [
    "# Testing"
   ]
  },
  {
   "cell_type": "markdown",
   "id": "4af6ef05",
   "metadata": {},
   "source": [
    "Testing model on train data"
   ]
  },
  {
   "cell_type": "code",
   "execution_count": null,
   "id": "a48bdd18",
   "metadata": {},
   "outputs": [],
   "source": [
    "# get the prediction labels and outlier scores of the training data\n",
    "y_train_pred = clf.labels_  # binary labels (0: inliers, 1: outliers)\n",
    "y_train_scores = clf.decision_scores_  # raw outlier scores"
   ]
  },
  {
   "cell_type": "code",
   "execution_count": null,
   "id": "0ee0ac70",
   "metadata": {},
   "outputs": [],
   "source": [
    "# evaluate and print the results\n",
    "print(\"\\nOn Training Data:\")\n",
    "evaluate_print(clf_name, y_train, y_train_scores)"
   ]
  },
  {
   "cell_type": "markdown",
   "id": "23003e74",
   "metadata": {},
   "source": [
    "Testing model on test data"
   ]
  },
  {
   "cell_type": "code",
   "execution_count": null,
   "id": "c8846853",
   "metadata": {},
   "outputs": [],
   "source": [
    "# get the prediction on the test data\n",
    "y_test_pred = clf.predict(X_test)  # outlier labels (0 or 1)\n",
    "y_test_scores = clf.decision_function(X_test)  # outlier scores"
   ]
  },
  {
   "cell_type": "code",
   "execution_count": null,
   "id": "adc79bde",
   "metadata": {
    "lines_to_next_cell": 2
   },
   "outputs": [],
   "source": [
    "print(\"\\nOn Test Data:\")\n",
    "evaluate_print(clf_name, y_test, y_test_scores)"
   ]
  }
 ],
 "metadata": {
  "jupytext": {
   "cell_metadata_filter": "-all",
   "main_language": "python",
   "notebook_metadata_filter": "-all"
  }
 },
 "nbformat": 4,
 "nbformat_minor": 5
}