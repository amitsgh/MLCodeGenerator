{
 "cells": [
  {
   "cell_type": "code",
   "execution_count": null,
   "id": "3b9b6a01",
   "metadata": {
    "lines_to_next_cell": 0
   },
   "outputs": [],
   "source": []
  },
  {
   "cell_type": "markdown",
   "id": "0326b3f8",
   "metadata": {},
   "source": [
    "# Install required libraries"
   ]
  },
  {
   "cell_type": "markdown",
   "id": "177d9a92",
   "metadata": {},
   "source": [
    "install required libraries\n",
    "pip install scikit-learn numpy matplotlib "
   ]
  },
  {
   "cell_type": "markdown",
   "id": "2448f31d",
   "metadata": {},
   "source": [
    "# Import required libraries"
   ]
  },
  {
   "cell_type": "code",
   "execution_count": null,
   "id": "d4a8b75d",
   "metadata": {},
   "outputs": [],
   "source": [
    "# importing required libraries\n",
    "import numpy as np\n",
    "from sklearn.tree import DecisionTreeClassifier\n",
    "from sklearn.model_selection import train_test_split\n",
    "from sklearn.model_selection import cross_val_score\n",
    "from sklearn.metrics import precision_score, recall_score\n",
    "from sklearn.metrics import classification_report\n",
    "import matplotlib.pyplot as plt\n",
    "from sklearn.datasets import make_classification"
   ]
  },
  {
   "cell_type": "markdown",
   "id": "66a6cd1f",
   "metadata": {},
   "source": [
    "# Hyperparameters"
   ]
  },
  {
   "cell_type": "code",
   "execution_count": null,
   "id": "0f0f5d67",
   "metadata": {},
   "outputs": [],
   "source": [
    "# Set Hyperparameters\n",
    "criterion = 'gini'\n",
    "max_depth = 1\n",
    "splitter = 'best'"
   ]
  },
  {
   "cell_type": "markdown",
   "id": "80b86583",
   "metadata": {},
   "source": [
    "# Data set"
   ]
  },
  {
   "cell_type": "code",
   "execution_count": null,
   "id": "423a1a42",
   "metadata": {},
   "outputs": [],
   "source": [
    "# number of training points\n",
    "n_samples = 1000\n",
    "# number of features in data set\n",
    "n_features = 10\n",
    "# number of classes\n",
    "n_classes = 2"
   ]
  },
  {
   "cell_type": "code",
   "execution_count": null,
   "id": "1b2fcd96",
   "metadata": {},
   "outputs": [],
   "source": [
    "# Generate Synthetic Data\n",
    "X, y = make_classification(n_samples=n_samples,\n",
    "                            n_features=n_features,\n",
    "                            n_classes=n_classes,\n",
    "                            random_state=42)"
   ]
  },
  {
   "cell_type": "code",
   "execution_count": null,
   "id": "425dc569",
   "metadata": {},
   "outputs": [],
   "source": [
    "# Splitting the data into training and testing data \n",
    "X_train, X_test, y_train, y_test = train_test_split(X, y, \n",
    "                                    test_size = 0.2, \n",
    "                                    stratify=y, \n",
    "                                    random_state=42)"
   ]
  },
  {
   "cell_type": "markdown",
   "id": "a5fbb39f",
   "metadata": {},
   "source": [
    "# Training"
   ]
  },
  {
   "cell_type": "code",
   "execution_count": null,
   "id": "f2d2ab87",
   "metadata": {},
   "outputs": [],
   "source": [
    "# Train Random Forest Model\n",
    "model = DecisionTreeClassifier(criterion=criterion, \n",
    "                max_depth=max_depth, splitter=splitter)\n",
    "model.fit(X_train, y_train)"
   ]
  },
  {
   "cell_type": "markdown",
   "id": "97593984",
   "metadata": {},
   "source": [
    "# Testing"
   ]
  },
  {
   "cell_type": "markdown",
   "id": "fc06e72e",
   "metadata": {},
   "source": [
    "Testing model on train data"
   ]
  },
  {
   "cell_type": "code",
   "execution_count": null,
   "id": "6f622bcc",
   "metadata": {},
   "outputs": [],
   "source": [
    "# get the prediction labels of the training data\n",
    "cross_validation = cross_val_score(model, X_train, y_train, cv=5)"
   ]
  },
  {
   "cell_type": "code",
   "execution_count": null,
   "id": "caa38839",
   "metadata": {},
   "outputs": [],
   "source": [
    "# evaluate and print the results\n",
    "print(\"\\nModel Performance on Training Data: {}\".format(\n",
    "    np.mean(cross_validation).round(2)))"
   ]
  },
  {
   "cell_type": "markdown",
   "id": "9d82f795",
   "metadata": {},
   "source": [
    "Testing model on test data"
   ]
  },
  {
   "cell_type": "code",
   "execution_count": null,
   "id": "3df9edab",
   "metadata": {},
   "outputs": [],
   "source": [
    "# get the prediction labels of the test data\n",
    "y_pred = model.predict(X_test)\n",
    "accuracy = model.score(X_test, y_test)"
   ]
  },
  {
   "cell_type": "code",
   "execution_count": null,
   "id": "21dc92dc",
   "metadata": {},
   "outputs": [],
   "source": [
    "print(\"\\nModel Performance on Test Data: {}\".format(\n",
    "    accuracy.round(2)))"
   ]
  },
  {
   "cell_type": "code",
   "execution_count": null,
   "id": "6f397a91",
   "metadata": {},
   "outputs": [],
   "source": [
    "# Compute the Precision\n",
    "precision = precision_score(y_test, y_pred).round(2)\n",
    "print(\"\\nPrecision: {}\".format(precision))"
   ]
  },
  {
   "cell_type": "code",
   "execution_count": null,
   "id": "c1e01b26",
   "metadata": {},
   "outputs": [],
   "source": [
    "# Compute the Recall\n",
    "recall = recall_score(y_test, y_pred).round(2)\n",
    "print(\"\\nRecall: {}\".format(recall))"
   ]
  },
  {
   "cell_type": "code",
   "execution_count": null,
   "id": "b72d9986",
   "metadata": {
    "lines_to_next_cell": 2
   },
   "outputs": [],
   "source": [
    "# Generate text reprot showing the main classification metrics\n",
    "report = classification_report(y_test, y_pred)\n",
    "print(report)"
   ]
  }
 ],
 "metadata": {
  "jupytext": {
   "cell_metadata_filter": "-all",
   "main_language": "python",
   "notebook_metadata_filter": "-all"
  }
 },
 "nbformat": 4,
 "nbformat_minor": 5
}