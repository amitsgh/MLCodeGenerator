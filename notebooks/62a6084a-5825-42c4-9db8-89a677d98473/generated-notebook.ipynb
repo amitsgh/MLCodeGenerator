{
 "cells": [
  {
   "cell_type": "markdown",
   "id": "1c0996dc",
   "metadata": {},
   "source": [
    "# Install required libraries"
   ]
  },
  {
   "cell_type": "markdown",
   "id": "f7b45970",
   "metadata": {},
   "source": [
    "install required libraries\n",
    "pip install scikit-learn numpy"
   ]
  },
  {
   "cell_type": "markdown",
   "id": "08d9cd52",
   "metadata": {},
   "source": [
    "# Import required libraries"
   ]
  },
  {
   "cell_type": "code",
   "execution_count": null,
   "id": "f3ed8eb2",
   "metadata": {},
   "outputs": [],
   "source": [
    "# importing required libraries\n",
    "import numpy as np\n",
    "from sklearn.cluster import DBSCAN\n",
    "from sklearn.datasets import make_blobs\n",
    "from sklearn.metrics.cluster import adjusted_rand_score\n",
    "from sklearn.metrics.cluster import normalized_mutual_info_score\n",
    "from sklearn.metrics.cluster import adjusted_mutual_info_score\n",
    "from sklearn.metrics.cluster import fowlkes_mallows_score"
   ]
  },
  {
   "cell_type": "markdown",
   "id": "137c54ff",
   "metadata": {},
   "source": [
    "# Hyperparameters"
   ]
  },
  {
   "cell_type": "code",
   "execution_count": null,
   "id": "f4b60589",
   "metadata": {},
   "outputs": [],
   "source": [
    "# Set Hyperparameters\n",
    "eps = 0.5\n",
    "min_samples = 5\n",
    "dist = 'euclidean'\n",
    "search_algo = 'auto'"
   ]
  },
  {
   "cell_type": "markdown",
   "id": "73466621",
   "metadata": {},
   "source": [
    "# Data set"
   ]
  },
  {
   "cell_type": "code",
   "execution_count": null,
   "id": "9115a565",
   "metadata": {},
   "outputs": [],
   "source": [
    "# number of training points\n",
    "n_samples = 1000\n",
    "# number of features in data set\n",
    "n_features = 2\n",
    "# number of cluster centers\n",
    "n_centers = 3\n",
    "# cluster standard deviation\n",
    "cluster_std = 1.0"
   ]
  },
  {
   "cell_type": "markdown",
   "id": "ade3bde5",
   "metadata": {},
   "source": [
    "Generate Synthetic Data"
   ]
  },
  {
   "cell_type": "code",
   "execution_count": null,
   "id": "1975ec40",
   "metadata": {},
   "outputs": [],
   "source": [
    "X, y = make_blobs(n_samples=n_samples, \n",
    "            n_features=n_features, \n",
    "            centers=n_centers, \n",
    "            cluster_std=cluster_std)"
   ]
  },
  {
   "cell_type": "markdown",
   "id": "697f6a03",
   "metadata": {},
   "source": [
    "# Training"
   ]
  },
  {
   "cell_type": "code",
   "execution_count": null,
   "id": "3be1b85a",
   "metadata": {},
   "outputs": [],
   "source": [
    "# Train DBSCAN Model\n",
    "model = DBSCAN(eps=eps,\n",
    "            min_samples=min_samples,\n",
    "            metric=dist,\n",
    "            algorithm=search_algo)\n",
    "model.fit(X)"
   ]
  },
  {
   "cell_type": "markdown",
   "id": "d0ce6628",
   "metadata": {},
   "source": [
    "# Testing"
   ]
  },
  {
   "cell_type": "code",
   "execution_count": null,
   "id": "34db04b2",
   "metadata": {},
   "outputs": [],
   "source": [
    "# get prediction labels for each data points\n",
    "y_pred = model.labels_"
   ]
  },
  {
   "cell_type": "code",
   "execution_count": null,
   "id": "0e3136c1",
   "metadata": {},
   "outputs": [],
   "source": [
    "# Adjusted Rand Score\n",
    "print(\"\\nAdjusted Rand Score : {}\".format(\n",
    "    np.round(adjusted_rand_score(y, y_pred), decimals=2)))"
   ]
  },
  {
   "cell_type": "code",
   "execution_count": null,
   "id": "042c058c",
   "metadata": {},
   "outputs": [],
   "source": [
    "# Normalized Mutual Information Based Score\n",
    "print(\"\\nNormalized Mutual Information Based Score : {}\".format(\n",
    "    np.round(normalized_mutual_info_score(y, y_pred), decimals=2)))"
   ]
  },
  {
   "cell_type": "code",
   "execution_count": null,
   "id": "54eaf4f8",
   "metadata": {},
   "outputs": [],
   "source": [
    "# Adjusted Mutual Information (AMI) \n",
    "print(\"\\nAdjusted Mutual Information (AMI) : {}\".format(\n",
    "    np.round(adjusted_mutual_info_score(y, y_pred), decimals=2)))"
   ]
  },
  {
   "cell_type": "code",
   "execution_count": null,
   "id": "06f5b354",
   "metadata": {},
   "outputs": [],
   "source": [
    "# Fowlkes-Mallows Score\n",
    "print(\"\\nFowlkes-Mallows Score : {}\".format(\n",
    "    np.round(fowlkes_mallows_score(y, y_pred), decimals=2)))"
   ]
  }
 ],
 "metadata": {
  "jupytext": {
   "cell_metadata_filter": "-all",
   "main_language": "python",
   "notebook_metadata_filter": "-all"
  }
 },
 "nbformat": 4,
 "nbformat_minor": 5
}